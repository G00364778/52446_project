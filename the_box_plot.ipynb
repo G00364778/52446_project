{
 "cells": [
  {
   "cell_type": "markdown",
   "metadata": {},
   "source": [
    "# Project - Fundamentals of data analyses\n",
    "\n",
    "Percentage | Category | Description\n",
    "---------- | -------- | -----------\n",
    "25% | Research | Investigation of box plots as demonstrated by references, background information, and approach.\n",
    "25% | Development | Clear, well-written, and efficient code with appropriate comments.\n",
    "25% | Consistency | Good planning and pragmatic attitude to work as evidenced by commit history.\n",
    "25% | Documentation | Concise descriptions and plots explaining box plots."
   ]
  },
  {
   "cell_type": "markdown",
   "metadata": {},
   "source": [
    "## Box Plots\n",
    "\n",
    "The box plot is common in data analysis for investigating individual numerical variables.\n",
    "\n",
    "investigate and explain box plots and their uses. The boxplot\n",
    "function from the Python package matplotlib.pyplot can be used to create box plots.\n"
   ]
  },
  {
   "cell_type": "markdown",
   "metadata": {},
   "source": [
    "### The history of the box plot\n"
   ]
  },
  {
   "cell_type": "markdown",
   "metadata": {},
   "source": [
    "### Situations in which it used\n"
   ]
  },
  {
   "cell_type": "markdown",
   "metadata": {},
   "source": [
    "### Demonstrate the use of the box plot using data of your choosing.\n"
   ]
  },
  {
   "cell_type": "markdown",
   "metadata": {},
   "source": [
    "### Explain any relevant terminology\n",
    "\n",
    "#### the terms quartile \n",
    "\n",
    "#### the terms percentile.\n"
   ]
  },
  {
   "cell_type": "markdown",
   "metadata": {},
   "source": [
    "### Compare the box plot to alternatives."
   ]
  },
  {
   "cell_type": "markdown",
   "metadata": {},
   "source": []
  },
  {
   "cell_type": "markdown",
   "metadata": {},
   "source": []
  },
  {
   "cell_type": "markdown",
   "metadata": {},
   "source": [
    "## References\n",
    "\n",
    "1. __[Understanding Boxplots](https://towardsdatascience.com/understanding-boxplots-5e2df7bcbd51)__\n",
    "1. __[40 Years of boxplots](vita.had.co.nz/papers/boxplots.pdf)\n",
    "\n",
    "1. __[Github Markdown reference](https://guides.github.com/features/mastering-markdown/)__"
   ]
  },
  {
   "cell_type": "markdown",
   "metadata": {},
   "source": []
  }
 ],
 "metadata": {
  "kernelspec": {
   "display_name": "Python 3",
   "language": "python",
   "name": "python3"
  },
  "language_info": {
   "codemirror_mode": {
    "name": "ipython",
    "version": 3
   },
   "file_extension": ".py",
   "mimetype": "text/x-python",
   "name": "python",
   "nbconvert_exporter": "python",
   "pygments_lexer": "ipython3",
   "version": "3.6.6"
  }
 },
 "nbformat": 4,
 "nbformat_minor": 2
}
