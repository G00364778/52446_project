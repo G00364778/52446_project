{
 "cells": [
  {
   "cell_type": "markdown",
   "metadata": {},
   "source": [
    "# Project - Fundamentals of data analyses\n",
    "\n",
    "Percentage | Category | Description\n",
    "---------- | -------- | -----------\n",
    "25% | Research | Investigation of box plots as demonstrated by references, background information, and approach.\n",
    "25% | Development | Clear, well-written, and efficient code with appropriate comments.\n",
    "25% | Consistency | Good planning and pragmatic attitude to work as evidenced by commit history.\n",
    "25% | Documentation | Concise descriptions and plots explaining box plots."
   ]
  },
  {
   "cell_type": "markdown",
   "metadata": {},
   "source": [
    "## Box Plots\n",
    "\n",
    "The box plot is common in data analysis for investigating individual numerical variables.\n",
    "\n",
    "investigate and explain box plots and their uses. The boxplot\n",
    "function from the Python package matplotlib.pyplot can be used to create box plots.\n"
   ]
  },
  {
   "cell_type": "markdown",
   "metadata": {},
   "source": [
    "### The history of the box plot\n",
    "\n",
    "<img style=\"margin:0px 15px 0px 0px\" alt=\"John Tukey\" align=\"left\" src=\"https://upload.wikimedia.org/wikipedia/en/e/e9/John_Tukey.jpg\"/>Box plots has been around for over forty years now and was first introduced in 1970 by John Tukey in his toolkit for exploratory data analyses and became widely know in his formal publications in 1977.\n",
    "\n",
    "Today the box plot is one of the most frequently used statistical graphs and one of the few plot types invented in the 20'th century that has had widespread adoption. Due to their elegance and practicality, a wealth of variations and enhancements were developed over the years. \n",
    "\n",
    "The basic graphic form of the box plot was already established in the early 1950's. [2]\n",
    "\n"
   ]
  },
  {
   "cell_type": "markdown",
   "metadata": {},
   "source": [
    "### Situations in which it used\n"
   ]
  },
  {
   "cell_type": "markdown",
   "metadata": {},
   "source": [
    "### Demonstrate the use of the box plot using data of your choosing.\n"
   ]
  },
  {
   "cell_type": "markdown",
   "metadata": {},
   "source": [
    "### Explain any relevant terminology\n",
    "\n",
    "A box plot consists of five carefully chosen components to give a robust summary of the distribution of a dataset. \n",
    "\n",
    "<img src=\"img/boxplot_details.png\" width=\"320\"/>\n",
    "\n",
    "- The _median_\n",
    "- Two _hinges_, the upper and lower fourths(_quartiles_) Q1 and Q3\n",
    "- The data values adjacent to the fences (1.5 x inner fourth from median)\n",
    "- Two _whiskers_ to connect the _hinges_ to the _fences_\n",
    "- _out-liers_ (outside the extremes)\n",
    "\n",
    "#### The Median\n",
    "\n",
    "In real simple terms, the median in a dataset is the value in the middle of the set for an eneven set of numbers or the average value of the two numbers in the middle of the set.\n",
    "\n",
    "```python\n",
    "dataset = [1,2,3,4,5,6,7,8,9]\n",
    "```\n",
    "So in this case the median of the set would be 5.\n",
    "\n",
    "```python\n",
    "dataset = [1,2,3,4,5,6,7,8,9,10]\n",
    "```\n",
    "In the second case the median of the set would be 5.5, so the average value between 5 and 6.\n",
    "\n",
    "#### The Fences\n",
    "\n",
    "The data values at the fences although described as _minimum_ and _maximum_ is not the same as the descriptive statistical min and max values. \n",
    "\n",
    "The _\"minimum\"_ value is calculated:    $minimum=Q1-1.5\\times IQR$ \n",
    "\n",
    "The _\"maximimum\"_ value is calculated:  $maximum=Q3+1.5\\times IQR$\n",
    "\n",
    "\n",
    "#### The terms quartile \n",
    "\n",
    "The same dataset can be used o describe the quartiles, Q1 and Q3, or otherwise described as the 25th percentile and 75th percentile would be the values 3 and 7 respectively.\n",
    "\n",
    "```python\n",
    "dataset = [1,2,3,4,5,6,7,8,9]\n",
    "\n",
    "\n",
    "count  9.000000\n",
    "mean   5.000000\n",
    "std    2.738613\n",
    "min    1.000000\n",
    "25%    3.000000\n",
    "50%    5.000000\n",
    "75%    7.000000\n",
    "max    9.000000\n",
    "\n",
    "```\n",
    "\n",
    "\n",
    "#### The terms percentile.\n",
    "\n",
    "The percentiles divides the dataset into quarters where the borders of of the quarters are determined by the calculations for each as described below\n",
    "\n",
    "- median: \n",
    "- first quartile: \n",
    "- third quartile:\n",
    "- interquartile range(IQR):\n",
    "- outliers:\n",
    "- \"maximum\":\n",
    "- \"minimum\":\n",
    "\n",
    "#### The Out-liers\n"
   ]
  },
  {
   "cell_type": "markdown",
   "metadata": {},
   "source": [
    "### Compare the box plot to alternatives.\n",
    "\n"
   ]
  },
  {
   "cell_type": "markdown",
   "metadata": {},
   "source": []
  },
  {
   "cell_type": "markdown",
   "metadata": {},
   "source": []
  },
  {
   "cell_type": "markdown",
   "metadata": {},
   "source": [
    "## References\n",
    "\n",
    "1. __[Understanding Boxplots](https://towardsdatascience.com/understanding-boxplots-5e2df7bcbd51)__\n",
    "1. __[40 Years of boxplots](http://vita.had.co.nz/papers/boxplots.pdf)__\n",
    "\n",
    "1. __[Seaborn Distribution Plots](https://seaborn.pydata.org/search.html?q=normal+distribution)__\n",
    "\n",
    "1. __[Github Markdown reference](https://guides.github.com/features/mastering-markdown/)__\n",
    "1. __[Jupyter Markdown reference](https://jupyter-notebook.readthedocs.io/en/stable/examples/Notebook/Working%20With%20Markdown%20Cells.html)__\n",
    "1. __[Latex Reference](http://www.malinc.se/math/latex/basiccodeen.php)__"
   ]
  },
  {
   "cell_type": "markdown",
   "metadata": {},
   "source": []
  }
 ],
 "metadata": {
  "kernelspec": {
   "display_name": "Python 3",
   "language": "python",
   "name": "python3"
  },
  "language_info": {
   "codemirror_mode": {
    "name": "ipython",
    "version": 3
   },
   "file_extension": ".py",
   "mimetype": "text/x-python",
   "name": "python",
   "nbconvert_exporter": "python",
   "pygments_lexer": "ipython3",
   "version": "3.7.0"
  }
 },
 "nbformat": 4,
 "nbformat_minor": 2
}
